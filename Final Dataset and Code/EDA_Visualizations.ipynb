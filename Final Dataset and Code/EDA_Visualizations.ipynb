{
 "cells": [
  {
   "cell_type": "markdown",
   "id": "60e33ac8-ec01-4792-a1db-40ab2e8bb5f7",
   "metadata": {},
   "source": [
    "# Data Visualization for EDA and Presentation\n",
    "### Courtney Drysdale - MSDS 692 - 2025 Fall 8W1"
   ]
  },
  {
   "cell_type": "code",
   "execution_count": 1,
   "id": "58e8ad09-e470-49a0-aead-f1057e528c25",
   "metadata": {},
   "outputs": [],
   "source": [
    "import pandas as pd\n",
    "import numpy as np\n",
    "import matplotlib.pyplot as plt\n",
    "%matplotlib inline\n",
    "\n",
    "import seaborn as sns\n",
    "\n",
    "import warnings\n",
    "warnings.filterwarnings(\"ignore\")"
   ]
  },
  {
   "cell_type": "code",
   "execution_count": 2,
   "id": "9117826c-b79d-43dd-b39a-5e57467a01a8",
   "metadata": {},
   "outputs": [],
   "source": [
    "df = pd.read_csv(\"2025_data_cleaned.csv\")"
   ]
  },
  {
   "cell_type": "code",
   "execution_count": 3,
   "id": "fac4b764-7749-4ecb-8fe0-90c968296ea0",
   "metadata": {},
   "outputs": [
    {
     "name": "stdout",
     "output_type": "stream",
     "text": [
      "<class 'pandas.core.frame.DataFrame'>\n",
      "RangeIndex: 161 entries, 0 to 160\n",
      "Data columns (total 19 columns):\n",
      " #   Column                         Non-Null Count  Dtype  \n",
      "---  ------                         --------------  -----  \n",
      " 0   District Code                  161 non-null    int64  \n",
      " 1   District Name                  161 non-null    object \n",
      " 2   ELA                            161 non-null    float64\n",
      " 3   Math                           161 non-null    float64\n",
      " 4   Attendance Rate                161 non-null    float64\n",
      " 5   Truancy Rate                   161 non-null    float64\n",
      " 6   PK-12 Count                    161 non-null    int64  \n",
      " 7   Teacher FTE                    161 non-null    float64\n",
      " 8   Percent Minority               161 non-null    float64\n",
      " 9   Percent Female                 161 non-null    float64\n",
      " 10  Percent Male                   161 non-null    float64\n",
      " 11  Percent Non-Binary             161 non-null    float64\n",
      " 12  Average Teacher Salary         161 non-null    float64\n",
      " 13  Percent Teacher Minority       161 non-null    float64\n",
      " 14  Staff Turnover Rate            161 non-null    float64\n",
      " 15  Federal Funding Per Pupil      161 non-null    float64\n",
      " 16  State/Local Funding Per Pupil  161 non-null    float64\n",
      " 17  Student Teacher Ratio          161 non-null    float64\n",
      " 18  Total Funding Per Pupil        161 non-null    float64\n",
      "dtypes: float64(16), int64(2), object(1)\n",
      "memory usage: 24.0+ KB\n"
     ]
    }
   ],
   "source": [
    "df.info()"
   ]
  },
  {
   "cell_type": "code",
   "execution_count": 4,
   "id": "777f0d60-81bb-4877-ad17-cd98e3e338ca",
   "metadata": {},
   "outputs": [
    {
     "data": {
      "text/html": [
       "<div>\n",
       "<style scoped>\n",
       "    .dataframe tbody tr th:only-of-type {\n",
       "        vertical-align: middle;\n",
       "    }\n",
       "\n",
       "    .dataframe tbody tr th {\n",
       "        vertical-align: top;\n",
       "    }\n",
       "\n",
       "    .dataframe thead th {\n",
       "        text-align: right;\n",
       "    }\n",
       "</style>\n",
       "<table border=\"1\" class=\"dataframe\">\n",
       "  <thead>\n",
       "    <tr style=\"text-align: right;\">\n",
       "      <th></th>\n",
       "      <th>District Code</th>\n",
       "      <th>District Name</th>\n",
       "      <th>ELA</th>\n",
       "      <th>Math</th>\n",
       "      <th>Attendance Rate</th>\n",
       "      <th>Truancy Rate</th>\n",
       "      <th>PK-12 Count</th>\n",
       "      <th>Teacher FTE</th>\n",
       "      <th>Percent Minority</th>\n",
       "      <th>Percent Female</th>\n",
       "      <th>Percent Male</th>\n",
       "      <th>Percent Non-Binary</th>\n",
       "      <th>Average Teacher Salary</th>\n",
       "      <th>Percent Teacher Minority</th>\n",
       "      <th>Staff Turnover Rate</th>\n",
       "      <th>Federal Funding Per Pupil</th>\n",
       "      <th>State/Local Funding Per Pupil</th>\n",
       "      <th>Student Teacher Ratio</th>\n",
       "      <th>Total Funding Per Pupil</th>\n",
       "    </tr>\n",
       "  </thead>\n",
       "  <tbody>\n",
       "    <tr>\n",
       "      <th>0</th>\n",
       "      <td>10</td>\n",
       "      <td>Mapleton 1</td>\n",
       "      <td>23.9</td>\n",
       "      <td>17.0</td>\n",
       "      <td>0.905</td>\n",
       "      <td>0.050</td>\n",
       "      <td>7095</td>\n",
       "      <td>404.6</td>\n",
       "      <td>0.875</td>\n",
       "      <td>0.499</td>\n",
       "      <td>0.501</td>\n",
       "      <td>0.0000</td>\n",
       "      <td>84216.0</td>\n",
       "      <td>0.224638</td>\n",
       "      <td>0.1961</td>\n",
       "      <td>525.0</td>\n",
       "      <td>14362.0</td>\n",
       "      <td>17.535838</td>\n",
       "      <td>14887.0</td>\n",
       "    </tr>\n",
       "    <tr>\n",
       "      <th>1</th>\n",
       "      <td>20</td>\n",
       "      <td>Adams 12 Five Star Schools</td>\n",
       "      <td>42.2</td>\n",
       "      <td>34.2</td>\n",
       "      <td>0.900</td>\n",
       "      <td>0.050</td>\n",
       "      <td>34466</td>\n",
       "      <td>2019.5</td>\n",
       "      <td>0.608</td>\n",
       "      <td>0.484</td>\n",
       "      <td>0.515</td>\n",
       "      <td>0.0008</td>\n",
       "      <td>78778.0</td>\n",
       "      <td>0.141951</td>\n",
       "      <td>0.1836</td>\n",
       "      <td>1008.0</td>\n",
       "      <td>14877.0</td>\n",
       "      <td>17.066601</td>\n",
       "      <td>15885.0</td>\n",
       "    </tr>\n",
       "    <tr>\n",
       "      <th>2</th>\n",
       "      <td>30</td>\n",
       "      <td>Adams County 14</td>\n",
       "      <td>12.9</td>\n",
       "      <td>8.6</td>\n",
       "      <td>0.879</td>\n",
       "      <td>0.091</td>\n",
       "      <td>5221</td>\n",
       "      <td>318.9</td>\n",
       "      <td>0.924</td>\n",
       "      <td>0.466</td>\n",
       "      <td>0.534</td>\n",
       "      <td>0.0000</td>\n",
       "      <td>77089.0</td>\n",
       "      <td>0.469697</td>\n",
       "      <td>0.2577</td>\n",
       "      <td>1988.0</td>\n",
       "      <td>15753.0</td>\n",
       "      <td>16.371903</td>\n",
       "      <td>17741.0</td>\n",
       "    </tr>\n",
       "    <tr>\n",
       "      <th>3</th>\n",
       "      <td>40</td>\n",
       "      <td>School District 27J</td>\n",
       "      <td>32.4</td>\n",
       "      <td>25.2</td>\n",
       "      <td>0.914</td>\n",
       "      <td>0.038</td>\n",
       "      <td>24014</td>\n",
       "      <td>1231.0</td>\n",
       "      <td>0.635</td>\n",
       "      <td>0.486</td>\n",
       "      <td>0.514</td>\n",
       "      <td>0.0001</td>\n",
       "      <td>76638.0</td>\n",
       "      <td>0.163282</td>\n",
       "      <td>0.1863</td>\n",
       "      <td>440.0</td>\n",
       "      <td>10788.0</td>\n",
       "      <td>19.507717</td>\n",
       "      <td>11228.0</td>\n",
       "    </tr>\n",
       "    <tr>\n",
       "      <th>4</th>\n",
       "      <td>50</td>\n",
       "      <td>Bennett 29J</td>\n",
       "      <td>27.7</td>\n",
       "      <td>17.6</td>\n",
       "      <td>0.924</td>\n",
       "      <td>0.028</td>\n",
       "      <td>1793</td>\n",
       "      <td>91.0</td>\n",
       "      <td>0.619</td>\n",
       "      <td>0.481</td>\n",
       "      <td>0.519</td>\n",
       "      <td>0.0000</td>\n",
       "      <td>53818.0</td>\n",
       "      <td>0.161290</td>\n",
       "      <td>0.3415</td>\n",
       "      <td>481.0</td>\n",
       "      <td>13661.0</td>\n",
       "      <td>19.703297</td>\n",
       "      <td>14142.0</td>\n",
       "    </tr>\n",
       "  </tbody>\n",
       "</table>\n",
       "</div>"
      ],
      "text/plain": [
       "   District Code               District Name   ELA  Math  Attendance Rate  \\\n",
       "0             10                  Mapleton 1  23.9  17.0            0.905   \n",
       "1             20  Adams 12 Five Star Schools  42.2  34.2            0.900   \n",
       "2             30             Adams County 14  12.9   8.6            0.879   \n",
       "3             40         School District 27J  32.4  25.2            0.914   \n",
       "4             50                 Bennett 29J  27.7  17.6            0.924   \n",
       "\n",
       "   Truancy Rate  PK-12 Count  Teacher FTE  Percent Minority  Percent Female  \\\n",
       "0         0.050         7095        404.6             0.875           0.499   \n",
       "1         0.050        34466       2019.5             0.608           0.484   \n",
       "2         0.091         5221        318.9             0.924           0.466   \n",
       "3         0.038        24014       1231.0             0.635           0.486   \n",
       "4         0.028         1793         91.0             0.619           0.481   \n",
       "\n",
       "   Percent Male  Percent Non-Binary  Average Teacher Salary  \\\n",
       "0         0.501              0.0000                 84216.0   \n",
       "1         0.515              0.0008                 78778.0   \n",
       "2         0.534              0.0000                 77089.0   \n",
       "3         0.514              0.0001                 76638.0   \n",
       "4         0.519              0.0000                 53818.0   \n",
       "\n",
       "   Percent Teacher Minority  Staff Turnover Rate  Federal Funding Per Pupil  \\\n",
       "0                  0.224638               0.1961                      525.0   \n",
       "1                  0.141951               0.1836                     1008.0   \n",
       "2                  0.469697               0.2577                     1988.0   \n",
       "3                  0.163282               0.1863                      440.0   \n",
       "4                  0.161290               0.3415                      481.0   \n",
       "\n",
       "   State/Local Funding Per Pupil  Student Teacher Ratio  \\\n",
       "0                        14362.0              17.535838   \n",
       "1                        14877.0              17.066601   \n",
       "2                        15753.0              16.371903   \n",
       "3                        10788.0              19.507717   \n",
       "4                        13661.0              19.703297   \n",
       "\n",
       "   Total Funding Per Pupil  \n",
       "0                  14887.0  \n",
       "1                  15885.0  \n",
       "2                  17741.0  \n",
       "3                  11228.0  \n",
       "4                  14142.0  "
      ]
     },
     "execution_count": 4,
     "metadata": {},
     "output_type": "execute_result"
    }
   ],
   "source": [
    "df.head()"
   ]
  },
  {
   "cell_type": "code",
   "execution_count": 5,
   "id": "0c03a4f1-90f2-4104-8c0f-a5cd3cbbaf2d",
   "metadata": {},
   "outputs": [
    {
     "data": {
      "text/html": [
       "<div>\n",
       "<style scoped>\n",
       "    .dataframe tbody tr th:only-of-type {\n",
       "        vertical-align: middle;\n",
       "    }\n",
       "\n",
       "    .dataframe tbody tr th {\n",
       "        vertical-align: top;\n",
       "    }\n",
       "\n",
       "    .dataframe thead th {\n",
       "        text-align: right;\n",
       "    }\n",
       "</style>\n",
       "<table border=\"1\" class=\"dataframe\">\n",
       "  <thead>\n",
       "    <tr style=\"text-align: right;\">\n",
       "      <th></th>\n",
       "      <th>count</th>\n",
       "      <th>mean</th>\n",
       "      <th>std</th>\n",
       "      <th>min</th>\n",
       "      <th>25%</th>\n",
       "      <th>50%</th>\n",
       "      <th>75%</th>\n",
       "      <th>max</th>\n",
       "    </tr>\n",
       "  </thead>\n",
       "  <tbody>\n",
       "    <tr>\n",
       "      <th>District Code</th>\n",
       "      <td>161.0</td>\n",
       "      <td>1747.459627</td>\n",
       "      <td>1252.930260</td>\n",
       "      <td>10.000000</td>\n",
       "      <td>940.000000</td>\n",
       "      <td>1540.000000</td>\n",
       "      <td>2650.000000</td>\n",
       "      <td>9170.000000</td>\n",
       "    </tr>\n",
       "    <tr>\n",
       "      <th>ELA</th>\n",
       "      <td>161.0</td>\n",
       "      <td>38.351553</td>\n",
       "      <td>13.738946</td>\n",
       "      <td>10.400000</td>\n",
       "      <td>28.600000</td>\n",
       "      <td>36.500000</td>\n",
       "      <td>47.500000</td>\n",
       "      <td>70.000000</td>\n",
       "    </tr>\n",
       "    <tr>\n",
       "      <th>Math</th>\n",
       "      <td>161.0</td>\n",
       "      <td>28.334783</td>\n",
       "      <td>12.656610</td>\n",
       "      <td>4.900000</td>\n",
       "      <td>18.400000</td>\n",
       "      <td>27.300000</td>\n",
       "      <td>35.800000</td>\n",
       "      <td>69.800000</td>\n",
       "    </tr>\n",
       "    <tr>\n",
       "      <th>Attendance Rate</th>\n",
       "      <td>161.0</td>\n",
       "      <td>0.918161</td>\n",
       "      <td>0.042621</td>\n",
       "      <td>0.441000</td>\n",
       "      <td>0.909000</td>\n",
       "      <td>0.920000</td>\n",
       "      <td>0.935000</td>\n",
       "      <td>0.986000</td>\n",
       "    </tr>\n",
       "    <tr>\n",
       "      <th>Truancy Rate</th>\n",
       "      <td>161.0</td>\n",
       "      <td>0.025534</td>\n",
       "      <td>0.018745</td>\n",
       "      <td>0.000000</td>\n",
       "      <td>0.014000</td>\n",
       "      <td>0.021000</td>\n",
       "      <td>0.031000</td>\n",
       "      <td>0.098000</td>\n",
       "    </tr>\n",
       "    <tr>\n",
       "      <th>PK-12 Count</th>\n",
       "      <td>161.0</td>\n",
       "      <td>5449.291925</td>\n",
       "      <td>12942.261207</td>\n",
       "      <td>47.000000</td>\n",
       "      <td>277.000000</td>\n",
       "      <td>769.000000</td>\n",
       "      <td>3195.000000</td>\n",
       "      <td>90450.000000</td>\n",
       "    </tr>\n",
       "    <tr>\n",
       "      <th>Teacher FTE</th>\n",
       "      <td>161.0</td>\n",
       "      <td>330.100621</td>\n",
       "      <td>788.772536</td>\n",
       "      <td>5.700000</td>\n",
       "      <td>21.500000</td>\n",
       "      <td>53.200000</td>\n",
       "      <td>194.500000</td>\n",
       "      <td>6047.000000</td>\n",
       "    </tr>\n",
       "    <tr>\n",
       "      <th>Percent Minority</th>\n",
       "      <td>161.0</td>\n",
       "      <td>0.394335</td>\n",
       "      <td>0.218994</td>\n",
       "      <td>0.081000</td>\n",
       "      <td>0.217000</td>\n",
       "      <td>0.337000</td>\n",
       "      <td>0.552000</td>\n",
       "      <td>0.924000</td>\n",
       "    </tr>\n",
       "    <tr>\n",
       "      <th>Percent Female</th>\n",
       "      <td>161.0</td>\n",
       "      <td>0.483863</td>\n",
       "      <td>0.024064</td>\n",
       "      <td>0.412000</td>\n",
       "      <td>0.472000</td>\n",
       "      <td>0.484000</td>\n",
       "      <td>0.496000</td>\n",
       "      <td>0.553000</td>\n",
       "    </tr>\n",
       "    <tr>\n",
       "      <th>Percent Male</th>\n",
       "      <td>161.0</td>\n",
       "      <td>0.515950</td>\n",
       "      <td>0.024151</td>\n",
       "      <td>0.447000</td>\n",
       "      <td>0.504000</td>\n",
       "      <td>0.515000</td>\n",
       "      <td>0.528000</td>\n",
       "      <td>0.588000</td>\n",
       "    </tr>\n",
       "    <tr>\n",
       "      <th>Percent Non-Binary</th>\n",
       "      <td>161.0</td>\n",
       "      <td>0.000189</td>\n",
       "      <td>0.000977</td>\n",
       "      <td>0.000000</td>\n",
       "      <td>0.000000</td>\n",
       "      <td>0.000000</td>\n",
       "      <td>0.000000</td>\n",
       "      <td>0.009800</td>\n",
       "    </tr>\n",
       "    <tr>\n",
       "      <th>Average Teacher Salary</th>\n",
       "      <td>161.0</td>\n",
       "      <td>58035.993789</td>\n",
       "      <td>12679.458986</td>\n",
       "      <td>0.000000</td>\n",
       "      <td>49001.000000</td>\n",
       "      <td>54869.000000</td>\n",
       "      <td>65287.000000</td>\n",
       "      <td>101831.000000</td>\n",
       "    </tr>\n",
       "    <tr>\n",
       "      <th>Percent Teacher Minority</th>\n",
       "      <td>161.0</td>\n",
       "      <td>0.140702</td>\n",
       "      <td>0.133589</td>\n",
       "      <td>0.000000</td>\n",
       "      <td>0.052632</td>\n",
       "      <td>0.111111</td>\n",
       "      <td>0.200000</td>\n",
       "      <td>0.944444</td>\n",
       "    </tr>\n",
       "    <tr>\n",
       "      <th>Staff Turnover Rate</th>\n",
       "      <td>161.0</td>\n",
       "      <td>0.233681</td>\n",
       "      <td>0.093706</td>\n",
       "      <td>0.046500</td>\n",
       "      <td>0.166700</td>\n",
       "      <td>0.211500</td>\n",
       "      <td>0.276600</td>\n",
       "      <td>0.575300</td>\n",
       "    </tr>\n",
       "    <tr>\n",
       "      <th>Federal Funding Per Pupil</th>\n",
       "      <td>161.0</td>\n",
       "      <td>1249.304348</td>\n",
       "      <td>998.842831</td>\n",
       "      <td>109.000000</td>\n",
       "      <td>623.000000</td>\n",
       "      <td>974.000000</td>\n",
       "      <td>1560.000000</td>\n",
       "      <td>6663.000000</td>\n",
       "    </tr>\n",
       "    <tr>\n",
       "      <th>State/Local Funding Per Pupil</th>\n",
       "      <td>161.0</td>\n",
       "      <td>17033.720497</td>\n",
       "      <td>11564.528134</td>\n",
       "      <td>2095.000000</td>\n",
       "      <td>13476.000000</td>\n",
       "      <td>15432.000000</td>\n",
       "      <td>17988.000000</td>\n",
       "      <td>150933.000000</td>\n",
       "    </tr>\n",
       "    <tr>\n",
       "      <th>Student Teacher Ratio</th>\n",
       "      <td>161.0</td>\n",
       "      <td>14.392227</td>\n",
       "      <td>4.281787</td>\n",
       "      <td>5.974026</td>\n",
       "      <td>11.934156</td>\n",
       "      <td>14.172185</td>\n",
       "      <td>16.165577</td>\n",
       "      <td>42.158626</td>\n",
       "    </tr>\n",
       "    <tr>\n",
       "      <th>Total Funding Per Pupil</th>\n",
       "      <td>161.0</td>\n",
       "      <td>18283.024845</td>\n",
       "      <td>11669.205181</td>\n",
       "      <td>2304.000000</td>\n",
       "      <td>14862.000000</td>\n",
       "      <td>16523.000000</td>\n",
       "      <td>18925.000000</td>\n",
       "      <td>151423.000000</td>\n",
       "    </tr>\n",
       "  </tbody>\n",
       "</table>\n",
       "</div>"
      ],
      "text/plain": [
       "                               count          mean           std          min  \\\n",
       "District Code                  161.0   1747.459627   1252.930260    10.000000   \n",
       "ELA                            161.0     38.351553     13.738946    10.400000   \n",
       "Math                           161.0     28.334783     12.656610     4.900000   \n",
       "Attendance Rate                161.0      0.918161      0.042621     0.441000   \n",
       "Truancy Rate                   161.0      0.025534      0.018745     0.000000   \n",
       "PK-12 Count                    161.0   5449.291925  12942.261207    47.000000   \n",
       "Teacher FTE                    161.0    330.100621    788.772536     5.700000   \n",
       "Percent Minority               161.0      0.394335      0.218994     0.081000   \n",
       "Percent Female                 161.0      0.483863      0.024064     0.412000   \n",
       "Percent Male                   161.0      0.515950      0.024151     0.447000   \n",
       "Percent Non-Binary             161.0      0.000189      0.000977     0.000000   \n",
       "Average Teacher Salary         161.0  58035.993789  12679.458986     0.000000   \n",
       "Percent Teacher Minority       161.0      0.140702      0.133589     0.000000   \n",
       "Staff Turnover Rate            161.0      0.233681      0.093706     0.046500   \n",
       "Federal Funding Per Pupil      161.0   1249.304348    998.842831   109.000000   \n",
       "State/Local Funding Per Pupil  161.0  17033.720497  11564.528134  2095.000000   \n",
       "Student Teacher Ratio          161.0     14.392227      4.281787     5.974026   \n",
       "Total Funding Per Pupil        161.0  18283.024845  11669.205181  2304.000000   \n",
       "\n",
       "                                        25%           50%           75%  \\\n",
       "District Code                    940.000000   1540.000000   2650.000000   \n",
       "ELA                               28.600000     36.500000     47.500000   \n",
       "Math                              18.400000     27.300000     35.800000   \n",
       "Attendance Rate                    0.909000      0.920000      0.935000   \n",
       "Truancy Rate                       0.014000      0.021000      0.031000   \n",
       "PK-12 Count                      277.000000    769.000000   3195.000000   \n",
       "Teacher FTE                       21.500000     53.200000    194.500000   \n",
       "Percent Minority                   0.217000      0.337000      0.552000   \n",
       "Percent Female                     0.472000      0.484000      0.496000   \n",
       "Percent Male                       0.504000      0.515000      0.528000   \n",
       "Percent Non-Binary                 0.000000      0.000000      0.000000   \n",
       "Average Teacher Salary         49001.000000  54869.000000  65287.000000   \n",
       "Percent Teacher Minority           0.052632      0.111111      0.200000   \n",
       "Staff Turnover Rate                0.166700      0.211500      0.276600   \n",
       "Federal Funding Per Pupil        623.000000    974.000000   1560.000000   \n",
       "State/Local Funding Per Pupil  13476.000000  15432.000000  17988.000000   \n",
       "Student Teacher Ratio             11.934156     14.172185     16.165577   \n",
       "Total Funding Per Pupil        14862.000000  16523.000000  18925.000000   \n",
       "\n",
       "                                         max  \n",
       "District Code                    9170.000000  \n",
       "ELA                                70.000000  \n",
       "Math                               69.800000  \n",
       "Attendance Rate                     0.986000  \n",
       "Truancy Rate                        0.098000  \n",
       "PK-12 Count                     90450.000000  \n",
       "Teacher FTE                      6047.000000  \n",
       "Percent Minority                    0.924000  \n",
       "Percent Female                      0.553000  \n",
       "Percent Male                        0.588000  \n",
       "Percent Non-Binary                  0.009800  \n",
       "Average Teacher Salary         101831.000000  \n",
       "Percent Teacher Minority            0.944444  \n",
       "Staff Turnover Rate                 0.575300  \n",
       "Federal Funding Per Pupil        6663.000000  \n",
       "State/Local Funding Per Pupil  150933.000000  \n",
       "Student Teacher Ratio              42.158626  \n",
       "Total Funding Per Pupil        151423.000000  "
      ]
     },
     "execution_count": 5,
     "metadata": {},
     "output_type": "execute_result"
    }
   ],
   "source": [
    "df.describe().T"
   ]
  },
  {
   "cell_type": "markdown",
   "id": "e3ef953a-8aeb-400d-8be0-e83a8846ad18",
   "metadata": {},
   "source": [
    "Now I will make a new column that has a value for whether or not the district's score was at or above the average or below the average score for the state. The mean for ELA score is 38.351553, so that will be the threshold. The machine learning algorithm will predict whether or not a district's overall scores will be below or at or above average."
   ]
  },
  {
   "cell_type": "code",
   "execution_count": 6,
   "id": "b04ba01b-854c-495f-83cc-c5bf26e1e790",
   "metadata": {},
   "outputs": [],
   "source": [
    "mean = 38.351553\n",
    "df['ELA Score'] = np.where(df['ELA'] > mean, 1, 0)"
   ]
  },
  {
   "cell_type": "code",
   "execution_count": 7,
   "id": "9d6452d3-38ca-4bcd-8767-b1bba535fb8c",
   "metadata": {},
   "outputs": [],
   "source": [
    "mean = 28.334783\n",
    "df['Math Score'] = np.where(df['Math'] > mean, 1, 0)"
   ]
  },
  {
   "cell_type": "code",
   "execution_count": 8,
   "id": "8215daa9-8a7e-4924-ae6e-36a170c470a6",
   "metadata": {},
   "outputs": [
    {
     "name": "stdout",
     "output_type": "stream",
     "text": [
      "<class 'pandas.core.frame.DataFrame'>\n",
      "RangeIndex: 161 entries, 0 to 160\n",
      "Data columns (total 21 columns):\n",
      " #   Column                         Non-Null Count  Dtype  \n",
      "---  ------                         --------------  -----  \n",
      " 0   District Code                  161 non-null    int64  \n",
      " 1   District Name                  161 non-null    object \n",
      " 2   ELA                            161 non-null    float64\n",
      " 3   Math                           161 non-null    float64\n",
      " 4   Attendance Rate                161 non-null    float64\n",
      " 5   Truancy Rate                   161 non-null    float64\n",
      " 6   PK-12 Count                    161 non-null    int64  \n",
      " 7   Teacher FTE                    161 non-null    float64\n",
      " 8   Percent Minority               161 non-null    float64\n",
      " 9   Percent Female                 161 non-null    float64\n",
      " 10  Percent Male                   161 non-null    float64\n",
      " 11  Percent Non-Binary             161 non-null    float64\n",
      " 12  Average Teacher Salary         161 non-null    float64\n",
      " 13  Percent Teacher Minority       161 non-null    float64\n",
      " 14  Staff Turnover Rate            161 non-null    float64\n",
      " 15  Federal Funding Per Pupil      161 non-null    float64\n",
      " 16  State/Local Funding Per Pupil  161 non-null    float64\n",
      " 17  Student Teacher Ratio          161 non-null    float64\n",
      " 18  Total Funding Per Pupil        161 non-null    float64\n",
      " 19  ELA Score                      161 non-null    int64  \n",
      " 20  Math Score                     161 non-null    int64  \n",
      "dtypes: float64(16), int64(4), object(1)\n",
      "memory usage: 26.5+ KB\n"
     ]
    }
   ],
   "source": [
    "df.info()"
   ]
  },
  {
   "cell_type": "markdown",
   "id": "cf899b45-0bdc-4241-96b5-00ed694f584a",
   "metadata": {},
   "source": [
    "## Boxplots for Teacher Percentage Values"
   ]
  },
  {
   "cell_type": "code",
   "execution_count": 9,
   "id": "ab1a4e82-21ab-4390-a9b0-7c0bb229eec7",
   "metadata": {},
   "outputs": [
    {
     "data": {
      "text/plain": [
       "Text(0.5, 1.0, 'Teacher Percentage Boxplots')"
      ]
     },
     "execution_count": 9,
     "metadata": {},
     "output_type": "execute_result"
    },
    {
     "data": {
      "image/png": "[encoded data removed]",
      "text/plain": [
       "<Figure size 800x600 with 1 Axes>"
      ]
     },
     "metadata": {},
     "output_type": "display_data"
    }
   ],
   "source": [
    "fig, ax = plt.subplots(figsize=(8,6))\n",
    "ax = df.boxplot(['Staff Turnover Rate', 'Percent Teacher Minority'])\n",
    "ax.set_title('Teacher Percentage Boxplots')"
   ]
  },
  {
   "cell_type": "code",
   "execution_count": 10,
   "id": "57d93524-efb5-48fa-b72a-7af3c925e3aa",
   "metadata": {},
   "outputs": [],
   "source": [
    "fig.savefig(\"Teacher Info Boxplot\", dpi=300)"
   ]
  },
  {
   "cell_type": "markdown",
   "id": "31a3b03b-cb92-4feb-a3d4-3db1360736e3",
   "metadata": {},
   "source": [
    "## Boxplots for Student Percentage Values"
   ]
  },
  {
   "cell_type": "code",
   "execution_count": 11,
   "id": "c829f11a-7363-41eb-b644-3adb13d83c6e",
   "metadata": {},
   "outputs": [
    {
     "data": {
      "text/plain": [
       "Text(0.5, 1.0, 'Student Percentage Boxplots')"
      ]
     },
     "execution_count": 11,
     "metadata": {},
     "output_type": "execute_result"
    },
    {
     "data": {
      "image/png": "[encoded data removed]",
      "text/plain": [
       "<Figure size 800x600 with 1 Axes>"
      ]
     },
     "metadata": {},
     "output_type": "display_data"
    }
   ],
   "source": [
    "fig, ax = plt.subplots(figsize=(8,6))\n",
    "ax = df.boxplot(['Percent Minority', 'Percent Male', 'Attendance Rate', 'Truancy Rate'])\n",
    "ax.set_title('Student Percentage Boxplots')"
   ]
  },
  {
   "cell_type": "code",
   "execution_count": 12,
   "id": "f21248dc-d6b3-4a4e-8ace-d05a9753461c",
   "metadata": {},
   "outputs": [],
   "source": [
    "fig.savefig(\"Student Info Boxplot\", dpi=300)"
   ]
  },
  {
   "cell_type": "code",
   "execution_count": 13,
   "id": "691b0e07-cb23-4669-9e7c-d73b8feffbe7",
   "metadata": {},
   "outputs": [
    {
     "data": {
      "text/plain": [
       "Text(0.5, 1.0, 'Financial Information Boxplot')"
      ]
     },
     "execution_count": 13,
     "metadata": {},
     "output_type": "execute_result"
    },
    {
     "data": {
      "image/png": "[encoded data removed]",
      "text/plain": [
       "<Figure size 800x600 with 1 Axes>"
      ]
     },
     "metadata": {},
     "output_type": "display_data"
    }
   ],
   "source": [
    "fig, ax = plt.subplots(figsize=(8,6))\n",
    "ax = df.boxplot(['Total Funding Per Pupil', 'Average Teacher Salary'])\n",
    "ax.set_title('Financial Information Boxplot')"
   ]
  },
  {
   "cell_type": "code",
   "execution_count": 14,
   "id": "8a7e32c7-5e21-4bf0-84ad-e9d8dde4d443",
   "metadata": {},
   "outputs": [],
   "source": [
    "fig.savefig(\"Financial Info Boxplot\", dpi=300)"
   ]
  },
  {
   "cell_type": "code",
   "execution_count": 16,
   "id": "ab55341e-4a33-404e-b583-77a99f38244b",
   "metadata": {},
   "outputs": [
    {
     "data": {
      "image/png": "[encoded data removed]",
      "text/plain": [
       "<Figure size 800x600 with 1 Axes>"
      ]
     },
     "metadata": {},
     "output_type": "display_data"
    }
   ],
   "source": [
    "fig, ax = plt.subplots(figsize=(8,6))\n",
    "ax.bar(elacounts_df[\"Score\"], elacounts_df[\"Count\"])\n",
    "ax.set_xticks(elacounts_df[\"Score\"])\n",
    "ax.set_title('School District English Language Arts Score Classification', fontsize=16)\n",
    "ax.set_xticklabels(['Below Average', 'Above Average'], fontsize=14)\n",
    "ax.bar_label(ax.containers[0], fontsize=14)\n",
    "ax.set_yticks([])\n",
    "\n",
    "plt.tight_layout()"
   ]
  },
  {
   "cell_type": "code",
   "execution_count": 17,
   "id": "f0a8a68b-be40-4fad-a790-e0a5b7010d3c",
   "metadata": {},
   "outputs": [],
   "source": [
    "fig.savefig(\"ELA Scores\", dpi=300)"
   ]
  },
  {
   "cell_type": "code",
   "execution_count": 18,
   "id": "4c4e91e3-ac23-492b-b035-e4a124f53855",
   "metadata": {},
   "outputs": [],
   "source": [
    "df_math = df[['District Name', 'Math Score']]\n",
    "math_counts = df['Math Score'].value_counts()\n",
    "mathcounts_df = math_counts.reset_index()\n",
    "mathcounts_df.columns = ['Score', 'Count']"
   ]
  },
  {
   "cell_type": "code",
   "execution_count": 19,
   "id": "ca05d048-6dd8-4a71-b00c-2c1102ae7885",
   "metadata": {},
   "outputs": [
    {
     "data": {
      "image/png": "[encoded data removed]",
      "text/plain": [
       "<Figure size 800x600 with 1 Axes>"
      ]
     },
     "metadata": {},
     "output_type": "display_data"
    }
   ],
   "source": [
    "fig, ax = plt.subplots(figsize=(8,6))\n",
    "ax.bar(mathcounts_df[\"Score\"], mathcounts_df[\"Count\"])\n",
    "ax.set_xticks(mathcounts_df[\"Score\"])\n",
    "ax.set_title('School District Math Score Classification', fontsize=16)\n",
    "ax.set_xticklabels(['Below Average', 'Above Average'], fontsize=14)\n",
    "ax.bar_label(ax.containers[0], fontsize=14)\n",
    "ax.set_yticks([])\n",
    "\n",
    "plt.tight_layout()"
   ]
  },
  {
   "cell_type": "code",
   "execution_count": 20,
   "id": "81715bcf-4cff-420b-a333-997111de72dd",
   "metadata": {},
   "outputs": [],
   "source": [
    "fig.savefig(\"Math Scores\", dpi=300)"
   ]
  },
  {
   "cell_type": "markdown",
   "id": "965dfd2b-4194-47f5-a858-b95a6778ad31",
   "metadata": {},
   "source": [
    "I want to know how each of these factored in to the model, so since it's linear regression I'll look at the coefficient magnitude. [This site](https://www.statology.org/sklearn-regression-coefficients/) helped me have the correct way to find and display this information. "
   ]
  }
 ],
 "metadata": {
  "kernelspec": {
   "display_name": "Python 3 (ipykernel)",
   "language": "python",
   "name": "python3"
  },
  "language_info": {
   "codemirror_mode": {
    "name": "ipython",
    "version": 3
   },
   "file_extension": ".py",
   "mimetype": "text/x-python",
   "name": "python",
   "nbconvert_exporter": "python",
   "pygments_lexer": "ipython3",
   "version": "3.9.16"
  }
 },
 "nbformat": 4,
 "nbformat_minor": 5
}
